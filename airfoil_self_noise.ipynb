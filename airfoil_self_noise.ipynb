{
 "cells": [
  {
   "cell_type": "markdown",
   "metadata": {},
   "source": [
    "# Airfoil self noise regression"
   ]
  },
  {
   "cell_type": "code",
   "execution_count": 1,
   "metadata": {},
   "outputs": [],
   "source": [
    "import pandas as pd\n",
    "import numpy as np\n",
    "import matplotlib.pyplot as plt\n",
    "import seaborn as sns"
   ]
  },
  {
   "cell_type": "code",
   "execution_count": 2,
   "metadata": {},
   "outputs": [],
   "source": [
    "dataset = pd.read_csv('C:/Users/rgiammatteo/Google Drive/Machine Learning/airfoil_self_noise.dat', sep='\\t', header=None)\n",
    "dataset.columns = ('freq', 'attack_angle', 'chord', 'fs_velocity', 'ssd_thickness', 'ss_pressure_level')"
   ]
  },
  {
   "cell_type": "code",
   "execution_count": 3,
   "metadata": {},
   "outputs": [
    {
     "data": {
      "text/html": [
       "<div>\n",
       "<style scoped>\n",
       "    .dataframe tbody tr th:only-of-type {\n",
       "        vertical-align: middle;\n",
       "    }\n",
       "\n",
       "    .dataframe tbody tr th {\n",
       "        vertical-align: top;\n",
       "    }\n",
       "\n",
       "    .dataframe thead th {\n",
       "        text-align: right;\n",
       "    }\n",
       "</style>\n",
       "<table border=\"1\" class=\"dataframe\">\n",
       "  <thead>\n",
       "    <tr style=\"text-align: right;\">\n",
       "      <th></th>\n",
       "      <th>freq</th>\n",
       "      <th>attack_angle</th>\n",
       "      <th>chord</th>\n",
       "      <th>fs_velocity</th>\n",
       "      <th>ssd_thickness</th>\n",
       "      <th>ss_pressure_level</th>\n",
       "    </tr>\n",
       "  </thead>\n",
       "  <tbody>\n",
       "    <tr>\n",
       "      <th>0</th>\n",
       "      <td>800</td>\n",
       "      <td>0.0</td>\n",
       "      <td>0.3048</td>\n",
       "      <td>71.3</td>\n",
       "      <td>0.002663</td>\n",
       "      <td>126.201</td>\n",
       "    </tr>\n",
       "    <tr>\n",
       "      <th>1</th>\n",
       "      <td>1000</td>\n",
       "      <td>0.0</td>\n",
       "      <td>0.3048</td>\n",
       "      <td>71.3</td>\n",
       "      <td>0.002663</td>\n",
       "      <td>125.201</td>\n",
       "    </tr>\n",
       "    <tr>\n",
       "      <th>2</th>\n",
       "      <td>1250</td>\n",
       "      <td>0.0</td>\n",
       "      <td>0.3048</td>\n",
       "      <td>71.3</td>\n",
       "      <td>0.002663</td>\n",
       "      <td>125.951</td>\n",
       "    </tr>\n",
       "    <tr>\n",
       "      <th>3</th>\n",
       "      <td>1600</td>\n",
       "      <td>0.0</td>\n",
       "      <td>0.3048</td>\n",
       "      <td>71.3</td>\n",
       "      <td>0.002663</td>\n",
       "      <td>127.591</td>\n",
       "    </tr>\n",
       "    <tr>\n",
       "      <th>4</th>\n",
       "      <td>2000</td>\n",
       "      <td>0.0</td>\n",
       "      <td>0.3048</td>\n",
       "      <td>71.3</td>\n",
       "      <td>0.002663</td>\n",
       "      <td>127.461</td>\n",
       "    </tr>\n",
       "  </tbody>\n",
       "</table>\n",
       "</div>"
      ],
      "text/plain": [
       "   freq  attack_angle   chord  fs_velocity  ssd_thickness  ss_pressure_level\n",
       "0   800           0.0  0.3048         71.3       0.002663            126.201\n",
       "1  1000           0.0  0.3048         71.3       0.002663            125.201\n",
       "2  1250           0.0  0.3048         71.3       0.002663            125.951\n",
       "3  1600           0.0  0.3048         71.3       0.002663            127.591\n",
       "4  2000           0.0  0.3048         71.3       0.002663            127.461"
      ]
     },
     "execution_count": 3,
     "metadata": {},
     "output_type": "execute_result"
    }
   ],
   "source": [
    "dataset.head()"
   ]
  },
  {
   "cell_type": "markdown",
   "metadata": {},
   "source": [
    "Checking for null or not assigned values"
   ]
  },
  {
   "cell_type": "code",
   "execution_count": 4,
   "metadata": {},
   "outputs": [
    {
     "data": {
      "text/plain": [
       "freq                 0\n",
       "attack_angle         0\n",
       "chord                0\n",
       "fs_velocity          0\n",
       "ssd_thickness        0\n",
       "ss_pressure_level    0\n",
       "dtype: int64"
      ]
     },
     "execution_count": 4,
     "metadata": {},
     "output_type": "execute_result"
    }
   ],
   "source": [
    "dataset.isnull().sum()"
   ]
  },
  {
   "cell_type": "code",
   "execution_count": 5,
   "metadata": {},
   "outputs": [
    {
     "data": {
      "text/plain": [
       "freq                 0\n",
       "attack_angle         0\n",
       "chord                0\n",
       "fs_velocity          0\n",
       "ssd_thickness        0\n",
       "ss_pressure_level    0\n",
       "dtype: int64"
      ]
     },
     "execution_count": 5,
     "metadata": {},
     "output_type": "execute_result"
    }
   ],
   "source": [
    "dataset.isna().sum()"
   ]
  },
  {
   "cell_type": "markdown",
   "metadata": {},
   "source": [
    "Plotting the distribution of the features"
   ]
  },
  {
   "cell_type": "code",
   "execution_count": 6,
   "metadata": {},
   "outputs": [
    {
     "data": {
      "image/png": "[encoded data removed]",
      "text/plain": [
       "<matplotlib.figure.Figure at 0xb2e0518>"
      ]
     },
     "metadata": {},
     "output_type": "display_data"
    }
   ],
   "source": [
    "sns.set()\n",
    "dataset.hist(figsize=(15,10))\n",
    "plt.show()"
   ]
  },
  {
   "cell_type": "code",
   "execution_count": 7,
   "metadata": {},
   "outputs": [
    {
     "data": {
      "image/png": "[encoded data removed]",
      "text/plain": [
       "<matplotlib.figure.Figure at 0xbfc6898>"
      ]
     },
     "metadata": {},
     "output_type": "display_data"
    }
   ],
   "source": [
    "#correlation of features\n",
    "#colormap = plt.cm.viridis\n",
    "#colormap = plt.cm.plasma\n",
    "colormap = plt.cm.seismic\n",
    "plt.figure(figsize=(9,9))\n",
    "plt.title('Correlation of Features', y=1.05, size=6)\n",
    "sns.heatmap(dataset.astype(float).corr(),linewidths=0.1,vmax=1.0, square=True, cmap=colormap, \n",
    "            linecolor='white', annot=True)\n",
    "plt.show()"
   ]
  },
  {
   "cell_type": "code",
   "execution_count": 8,
   "metadata": {},
   "outputs": [
    {
     "data": {
      "text/plain": [
       "(1503, 6)"
      ]
     },
     "execution_count": 8,
     "metadata": {},
     "output_type": "execute_result"
    }
   ],
   "source": [
    "dataset.shape"
   ]
  },
  {
   "cell_type": "code",
   "execution_count": 9,
   "metadata": {},
   "outputs": [],
   "source": [
    "X = dataset.iloc[:, :-1].values\n",
    "y = dataset.iloc[:, -1].values"
   ]
  },
  {
   "cell_type": "code",
   "execution_count": 10,
   "metadata": {},
   "outputs": [],
   "source": [
    "# Train test split \n",
    "from sklearn.model_selection import train_test_split\n",
    "X_train, X_test, y_train, y_test = train_test_split(X, y, test_size = 0.08, random_state = 0)"
   ]
  },
  {
   "cell_type": "code",
   "execution_count": 11,
   "metadata": {},
   "outputs": [
    {
     "data": {
      "text/plain": [
       "LinearRegression(copy_X=True, fit_intercept=True, n_jobs=1, normalize=False)"
      ]
     },
     "execution_count": 11,
     "metadata": {},
     "output_type": "execute_result"
    }
   ],
   "source": [
    "from sklearn.linear_model import LinearRegression\n",
    "regressor = LinearRegression()\n",
    "\n",
    "regressor.fit(X_train, y_train)"
   ]
  },
  {
   "cell_type": "code",
   "execution_count": 12,
   "metadata": {},
   "outputs": [],
   "source": [
    "y_test_pred = regressor.predict(X_test)"
   ]
  },
  {
   "cell_type": "code",
   "execution_count": 13,
   "metadata": {
    "scrolled": true
   },
   "outputs": [
    {
     "data": {
      "text/plain": [
       "array([-0.0367295 ,  0.00799238,  0.06920817,  0.09685335, -0.02435385,\n",
       "        0.06264185,  0.0144105 ,  0.02414641,  0.04202407,  0.01596634,\n",
       "       -0.00500267, -0.03829009,  0.01304204,  0.02882733, -0.02054305,\n",
       "        0.05235564,  0.01583709, -0.07839841,  0.00055495,  0.07601412,\n",
       "       -0.01143175, -0.02215764, -0.02142377,  0.04184229, -0.0407138 ,\n",
       "        0.00635851, -0.00450691, -0.08584736, -0.0205624 , -0.01560927,\n",
       "        0.00644508,  0.01097909,  0.05951212,  0.00651296, -0.02969559,\n",
       "       -0.01053894,  0.00431174, -0.05333422, -0.00605167,  0.00459385,\n",
       "       -0.00504096, -0.02058778, -0.09761338, -0.03803697,  0.04898214,\n",
       "       -0.03583001, -0.00241867,  0.00262441,  0.04769416, -0.04341284,\n",
       "       -0.02082312, -0.02219211, -0.01239405, -0.01500434,  0.0073686 ,\n",
       "        0.01214165,  0.00290482, -0.02057169,  0.02098775,  0.01034974,\n",
       "        0.02409317, -0.05902806,  0.00150187, -0.04343083, -0.01356302,\n",
       "        0.00571343, -0.00168207, -0.04478617, -0.02616638,  0.13324116,\n",
       "       -0.00688397, -0.00532137,  0.06685797, -0.02767216, -0.01660138,\n",
       "        0.00934387,  0.03006463,  0.03054092, -0.0092077 ,  0.00263184,\n",
       "        0.02158802, -0.01613451,  0.05555873,  0.01545781, -0.00089584,\n",
       "        0.00822534, -0.05015292,  0.00650366, -0.03549686,  0.0003212 ,\n",
       "       -0.0570926 , -0.00296543,  0.04518242,  0.02735695, -0.00031938,\n",
       "        0.06308029,  0.06722608, -0.05075284,  0.00631746,  0.01840519,\n",
       "        0.00478509, -0.03823522,  0.00888371, -0.03828401, -0.01187926,\n",
       "       -0.02528816, -0.02139869, -0.00936293, -0.0272034 , -0.04432403,\n",
       "        0.01834691, -0.00210401, -0.00413347, -0.01143322, -0.04068886,\n",
       "        0.00426898, -0.03664159,  0.01507152, -0.03104798, -0.00636224,\n",
       "        0.00975663])"
      ]
     },
     "execution_count": 13,
     "metadata": {},
     "output_type": "execute_result"
    }
   ],
   "source": [
    "(y_test_pred - y_test) / y_test"
   ]
  },
  {
   "cell_type": "code",
   "execution_count": 14,
   "metadata": {},
   "outputs": [
    {
     "data": {
      "text/plain": [
       "0.5890517146400599"
      ]
     },
     "execution_count": 14,
     "metadata": {},
     "output_type": "execute_result"
    }
   ],
   "source": [
    "lin_reg_r2 = regressor.score(X_test, y_test)\n",
    "lin_reg_r2"
   ]
  },
  {
   "cell_type": "markdown",
   "metadata": {},
   "source": [
    "regressor.score gives the same result of sklearn.metrics.r2_score: "
   ]
  },
  {
   "cell_type": "code",
   "execution_count": 15,
   "metadata": {},
   "outputs": [
    {
     "data": {
      "text/plain": [
       "0.5890517146400599"
      ]
     },
     "execution_count": 15,
     "metadata": {},
     "output_type": "execute_result"
    }
   ],
   "source": [
    "from sklearn.metrics import r2_score\n",
    "sk_metrics_r2 = r2_score(y_test, y_test_pred)\n",
    "sk_metrics_r2"
   ]
  },
  {
   "cell_type": "code",
   "execution_count": 16,
   "metadata": {},
   "outputs": [
    {
     "data": {
      "text/plain": [
       "19.53513769892804"
      ]
     },
     "execution_count": 16,
     "metadata": {},
     "output_type": "execute_result"
    }
   ],
   "source": [
    "from sklearn.metrics import mean_squared_error\n",
    "\n",
    "mse_lin_reg = mean_squared_error(y_test, y_test_pred)\n",
    "mse_lin_reg"
   ]
  },
  {
   "cell_type": "code",
   "execution_count": 18,
   "metadata": {},
   "outputs": [
    {
     "data": {
      "text/plain": [
       "0.15584512678121826"
      ]
     },
     "execution_count": 18,
     "metadata": {},
     "output_type": "execute_result"
    }
   ],
   "source": [
    "mse_lin_reg / y_test.mean()"
   ]
  },
  {
   "cell_type": "code",
   "execution_count": 19,
   "metadata": {},
   "outputs": [
    {
     "data": {
      "text/plain": [
       "0.72306499014093628"
      ]
     },
     "execution_count": 19,
     "metadata": {},
     "output_type": "execute_result"
    }
   ],
   "source": [
    "from sklearn.preprocessing import PolynomialFeatures\n",
    "polyFeat = PolynomialFeatures(degree=3)\n",
    "\n",
    "X_poly = polyFeat.fit_transform(X)\n",
    "#X_poly.shape\n",
    "\n",
    "X_train, X_test, y_train, y_test = train_test_split(X_poly, y, test_size = 0.08, random_state = 0)\n",
    "\n",
    "poly_regressor = LinearRegression()\n",
    "\n",
    "poly_regressor.fit(X_train, y_train)\n",
    "\n",
    "poly_reg_r2 = poly_regressor.score(X_test, y_test)\n",
    "poly_reg_r2"
   ]
  },
  {
   "cell_type": "code",
   "execution_count": 31,
   "metadata": {},
   "outputs": [
    {
     "data": {
      "text/plain": [
       "13.164584800523846"
      ]
     },
     "execution_count": 31,
     "metadata": {},
     "output_type": "execute_result"
    }
   ],
   "source": [
    "mse_poly_reg = mean_squared_error(y_test, poly_regressor.predict(X_test))\n",
    "mse_poly_reg"
   ]
  }
 ],
 "metadata": {
  "kernelspec": {
   "display_name": "Python 3",
   "language": "python",
   "name": "python3"
  },
  "language_info": {
   "codemirror_mode": {
    "name": "ipython",
    "version": 3
   },
   "file_extension": ".py",
   "mimetype": "text/x-python",
   "name": "python",
   "nbconvert_exporter": "python",
   "pygments_lexer": "ipython3",
   "version": "3.6.3"
  }
 },
 "nbformat": 4,
 "nbformat_minor": 2
}
